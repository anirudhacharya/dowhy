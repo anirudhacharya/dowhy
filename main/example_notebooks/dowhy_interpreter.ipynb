{
 "cells": [
  {
   "cell_type": "markdown",
   "id": "50287706",
   "metadata": {},
   "source": [
    "# DoWhy: Interpreters for Causal Estimators\n",
    "\n",
    "This is a quick introduction to the use of interpreters in the DoWhy causal inference library.\n",
    "We will load in a sample dataset, use different methods for estimating the causal effect of a (pre-specified)treatment variable on a (pre-specified) outcome variable and demonstrate how to interpret the obtained results.\n",
    "\n",
    "First, let us add the required path for Python to find the DoWhy code and load all required packages"
   ]
  },
  {
   "cell_type": "code",
   "execution_count": 1,
   "id": "b06ec250",
   "metadata": {
    "execution": {
     "iopub.execute_input": "2022-08-07T22:11:02.237191Z",
     "iopub.status.busy": "2022-08-07T22:11:02.236852Z",
     "iopub.status.idle": "2022-08-07T22:11:02.261135Z",
     "shell.execute_reply": "2022-08-07T22:11:02.257018Z"
    }
   },
   "outputs": [],
   "source": [
    "%load_ext autoreload\n",
    "%autoreload 2"
   ]
  },
  {
   "cell_type": "code",
   "execution_count": 2,
   "id": "ab4ad92a",
   "metadata": {
    "execution": {
     "iopub.execute_input": "2022-08-07T22:11:02.271048Z",
     "iopub.status.busy": "2022-08-07T22:11:02.270683Z",
     "iopub.status.idle": "2022-08-07T22:11:03.721383Z",
     "shell.execute_reply": "2022-08-07T22:11:03.720078Z"
    }
   },
   "outputs": [
    {
     "name": "stdout",
     "output_type": "stream",
     "text": [
      "keywords are unexpanded, not using\n"
     ]
    }
   ],
   "source": [
    "import numpy as np\n",
    "import pandas as pd\n",
    "import logging\n",
    "\n",
    "import dowhy\n",
    "from dowhy import CausalModel\n",
    "import dowhy.datasets "
   ]
  },
  {
   "cell_type": "markdown",
   "id": "0e392c98",
   "metadata": {},
   "source": [
    "Now, let us load a dataset. For simplicity, we simulate a dataset with linear relationships between common causes and treatment, and common causes and outcome.\n",
    "\n",
    "Beta is the true causal effect."
   ]
  },
  {
   "cell_type": "code",
   "execution_count": 3,
   "id": "289f3260",
   "metadata": {
    "execution": {
     "iopub.execute_input": "2022-08-07T22:11:03.726124Z",
     "iopub.status.busy": "2022-08-07T22:11:03.725446Z",
     "iopub.status.idle": "2022-08-07T22:11:04.312963Z",
     "shell.execute_reply": "2022-08-07T22:11:04.312138Z"
    }
   },
   "outputs": [
    {
     "name": "stdout",
     "output_type": "stream",
     "text": [
      "9292\n"
     ]
    },
    {
     "data": {
      "text/html": [
       "<div>\n",
       "<style scoped>\n",
       "    .dataframe tbody tr th:only-of-type {\n",
       "        vertical-align: middle;\n",
       "    }\n",
       "\n",
       "    .dataframe tbody tr th {\n",
       "        vertical-align: top;\n",
       "    }\n",
       "\n",
       "    .dataframe thead th {\n",
       "        text-align: right;\n",
       "    }\n",
       "</style>\n",
       "<table border=\"1\" class=\"dataframe\">\n",
       "  <thead>\n",
       "    <tr style=\"text-align: right;\">\n",
       "      <th></th>\n",
       "      <th>Z0</th>\n",
       "      <th>Z1</th>\n",
       "      <th>W0</th>\n",
       "      <th>W1</th>\n",
       "      <th>W2</th>\n",
       "      <th>W3</th>\n",
       "      <th>W4</th>\n",
       "      <th>v0</th>\n",
       "      <th>y</th>\n",
       "    </tr>\n",
       "  </thead>\n",
       "  <tbody>\n",
       "    <tr>\n",
       "      <th>0</th>\n",
       "      <td>1.0</td>\n",
       "      <td>0.548357</td>\n",
       "      <td>0.123073</td>\n",
       "      <td>2.469465</td>\n",
       "      <td>-1.381317</td>\n",
       "      <td>0.735153</td>\n",
       "      <td>1</td>\n",
       "      <td>True</td>\n",
       "      <td>2.820310</td>\n",
       "    </tr>\n",
       "    <tr>\n",
       "      <th>1</th>\n",
       "      <td>1.0</td>\n",
       "      <td>0.063604</td>\n",
       "      <td>0.987936</td>\n",
       "      <td>-0.674496</td>\n",
       "      <td>1.469104</td>\n",
       "      <td>0.502199</td>\n",
       "      <td>0</td>\n",
       "      <td>True</td>\n",
       "      <td>1.535004</td>\n",
       "    </tr>\n",
       "    <tr>\n",
       "      <th>2</th>\n",
       "      <td>1.0</td>\n",
       "      <td>0.940861</td>\n",
       "      <td>1.881458</td>\n",
       "      <td>0.123834</td>\n",
       "      <td>0.741842</td>\n",
       "      <td>2.714264</td>\n",
       "      <td>3</td>\n",
       "      <td>True</td>\n",
       "      <td>4.564086</td>\n",
       "    </tr>\n",
       "    <tr>\n",
       "      <th>3</th>\n",
       "      <td>0.0</td>\n",
       "      <td>0.024428</td>\n",
       "      <td>0.963391</td>\n",
       "      <td>1.267510</td>\n",
       "      <td>0.935682</td>\n",
       "      <td>1.020655</td>\n",
       "      <td>0</td>\n",
       "      <td>True</td>\n",
       "      <td>2.706341</td>\n",
       "    </tr>\n",
       "    <tr>\n",
       "      <th>4</th>\n",
       "      <td>0.0</td>\n",
       "      <td>0.219267</td>\n",
       "      <td>0.858571</td>\n",
       "      <td>-0.806169</td>\n",
       "      <td>-0.571247</td>\n",
       "      <td>-1.700502</td>\n",
       "      <td>1</td>\n",
       "      <td>False</td>\n",
       "      <td>-0.723163</td>\n",
       "    </tr>\n",
       "    <tr>\n",
       "      <th>...</th>\n",
       "      <td>...</td>\n",
       "      <td>...</td>\n",
       "      <td>...</td>\n",
       "      <td>...</td>\n",
       "      <td>...</td>\n",
       "      <td>...</td>\n",
       "      <td>...</td>\n",
       "      <td>...</td>\n",
       "      <td>...</td>\n",
       "    </tr>\n",
       "    <tr>\n",
       "      <th>9995</th>\n",
       "      <td>0.0</td>\n",
       "      <td>0.988749</td>\n",
       "      <td>-0.860329</td>\n",
       "      <td>0.493644</td>\n",
       "      <td>0.363331</td>\n",
       "      <td>1.431603</td>\n",
       "      <td>2</td>\n",
       "      <td>True</td>\n",
       "      <td>2.953961</td>\n",
       "    </tr>\n",
       "    <tr>\n",
       "      <th>9996</th>\n",
       "      <td>0.0</td>\n",
       "      <td>0.441015</td>\n",
       "      <td>0.504156</td>\n",
       "      <td>1.206996</td>\n",
       "      <td>0.354409</td>\n",
       "      <td>0.042934</td>\n",
       "      <td>0</td>\n",
       "      <td>True</td>\n",
       "      <td>1.898546</td>\n",
       "    </tr>\n",
       "    <tr>\n",
       "      <th>9997</th>\n",
       "      <td>0.0</td>\n",
       "      <td>0.322534</td>\n",
       "      <td>1.977268</td>\n",
       "      <td>1.460749</td>\n",
       "      <td>0.937647</td>\n",
       "      <td>1.187104</td>\n",
       "      <td>2</td>\n",
       "      <td>True</td>\n",
       "      <td>4.144780</td>\n",
       "    </tr>\n",
       "    <tr>\n",
       "      <th>9998</th>\n",
       "      <td>0.0</td>\n",
       "      <td>0.457147</td>\n",
       "      <td>1.134419</td>\n",
       "      <td>0.496900</td>\n",
       "      <td>1.515149</td>\n",
       "      <td>-0.601490</td>\n",
       "      <td>3</td>\n",
       "      <td>True</td>\n",
       "      <td>3.326221</td>\n",
       "    </tr>\n",
       "    <tr>\n",
       "      <th>9999</th>\n",
       "      <td>1.0</td>\n",
       "      <td>0.989679</td>\n",
       "      <td>0.169748</td>\n",
       "      <td>1.572145</td>\n",
       "      <td>0.729296</td>\n",
       "      <td>-0.519918</td>\n",
       "      <td>3</td>\n",
       "      <td>True</td>\n",
       "      <td>3.514385</td>\n",
       "    </tr>\n",
       "  </tbody>\n",
       "</table>\n",
       "<p>10000 rows × 9 columns</p>\n",
       "</div>"
      ],
      "text/plain": [
       "       Z0        Z1        W0        W1        W2        W3 W4     v0  \\\n",
       "0     1.0  0.548357  0.123073  2.469465 -1.381317  0.735153  1   True   \n",
       "1     1.0  0.063604  0.987936 -0.674496  1.469104  0.502199  0   True   \n",
       "2     1.0  0.940861  1.881458  0.123834  0.741842  2.714264  3   True   \n",
       "3     0.0  0.024428  0.963391  1.267510  0.935682  1.020655  0   True   \n",
       "4     0.0  0.219267  0.858571 -0.806169 -0.571247 -1.700502  1  False   \n",
       "...   ...       ...       ...       ...       ...       ... ..    ...   \n",
       "9995  0.0  0.988749 -0.860329  0.493644  0.363331  1.431603  2   True   \n",
       "9996  0.0  0.441015  0.504156  1.206996  0.354409  0.042934  0   True   \n",
       "9997  0.0  0.322534  1.977268  1.460749  0.937647  1.187104  2   True   \n",
       "9998  0.0  0.457147  1.134419  0.496900  1.515149 -0.601490  3   True   \n",
       "9999  1.0  0.989679  0.169748  1.572145  0.729296 -0.519918  3   True   \n",
       "\n",
       "             y  \n",
       "0     2.820310  \n",
       "1     1.535004  \n",
       "2     4.564086  \n",
       "3     2.706341  \n",
       "4    -0.723163  \n",
       "...        ...  \n",
       "9995  2.953961  \n",
       "9996  1.898546  \n",
       "9997  4.144780  \n",
       "9998  3.326221  \n",
       "9999  3.514385  \n",
       "\n",
       "[10000 rows x 9 columns]"
      ]
     },
     "execution_count": 3,
     "metadata": {},
     "output_type": "execute_result"
    }
   ],
   "source": [
    "data = dowhy.datasets.linear_dataset(beta=1,\n",
    "        num_common_causes=5, \n",
    "        num_instruments = 2,\n",
    "        num_treatments=1,\n",
    "        num_discrete_common_causes=1,\n",
    "        num_samples=10000,\n",
    "        treatment_is_binary=True,\n",
    "        outcome_is_binary=False)\n",
    "df = data[\"df\"]\n",
    "print(df[df.v0==True].shape[0])\n",
    "df"
   ]
  },
  {
   "cell_type": "markdown",
   "id": "f7a5d2b3",
   "metadata": {},
   "source": [
    "Note that we are using a pandas dataframe to load the data."
   ]
  },
  {
   "cell_type": "markdown",
   "id": "ec89f7dc",
   "metadata": {},
   "source": [
    "## Identifying the causal estimand"
   ]
  },
  {
   "cell_type": "markdown",
   "id": "b40417ce",
   "metadata": {},
   "source": [
    "We now input a causal graph in the GML graph format."
   ]
  },
  {
   "cell_type": "code",
   "execution_count": 4,
   "id": "11f984ed",
   "metadata": {
    "execution": {
     "iopub.execute_input": "2022-08-07T22:11:04.317188Z",
     "iopub.status.busy": "2022-08-07T22:11:04.316691Z",
     "iopub.status.idle": "2022-08-07T22:11:04.350076Z",
     "shell.execute_reply": "2022-08-07T22:11:04.349054Z"
    }
   },
   "outputs": [],
   "source": [
    "# With graph\n",
    "model=CausalModel(\n",
    "        data = df,\n",
    "        treatment=data[\"treatment_name\"],\n",
    "        outcome=data[\"outcome_name\"],\n",
    "        graph=data[\"gml_graph\"],\n",
    "        instruments=data[\"instrument_names\"]\n",
    "        )"
   ]
  },
  {
   "cell_type": "code",
   "execution_count": 5,
   "id": "d6b5e73d",
   "metadata": {
    "execution": {
     "iopub.execute_input": "2022-08-07T22:11:04.355023Z",
     "iopub.status.busy": "2022-08-07T22:11:04.354463Z",
     "iopub.status.idle": "2022-08-07T22:11:04.424353Z",
     "shell.execute_reply": "2022-08-07T22:11:04.423286Z"
    }
   },
   "outputs": [],
   "source": [
    "model.view_model()"
   ]
  },
  {
   "cell_type": "code",
   "execution_count": 6,
   "id": "c6f4db9f",
   "metadata": {
    "execution": {
     "iopub.execute_input": "2022-08-07T22:11:04.429378Z",
     "iopub.status.busy": "2022-08-07T22:11:04.428393Z",
     "iopub.status.idle": "2022-08-07T22:11:04.461201Z",
     "shell.execute_reply": "2022-08-07T22:11:04.460194Z"
    }
   },
   "outputs": [
    {
     "data": {
      "image/png": "[encoded data removed]",
      "text/plain": [
       "<IPython.core.display.Image object>"
      ]
     },
     "metadata": {},
     "output_type": "display_data"
    }
   ],
   "source": [
    "from IPython.display import Image, display\n",
    "display(Image(filename=\"causal_model.png\"))"
   ]
  },
  {
   "cell_type": "markdown",
   "id": "b7fed357",
   "metadata": {},
   "source": [
    "We get a causal graph. Now identification and estimation is done."
   ]
  },
  {
   "cell_type": "code",
   "execution_count": 7,
   "id": "0a3cf8f9",
   "metadata": {
    "execution": {
     "iopub.execute_input": "2022-08-07T22:11:04.466495Z",
     "iopub.status.busy": "2022-08-07T22:11:04.466039Z",
     "iopub.status.idle": "2022-08-07T22:11:04.792594Z",
     "shell.execute_reply": "2022-08-07T22:11:04.791517Z"
    }
   },
   "outputs": [
    {
     "name": "stdout",
     "output_type": "stream",
     "text": [
      "Estimand type: nonparametric-ate\n",
      "\n",
      "### Estimand : 1\n",
      "Estimand name: backdoor\n",
      "Estimand expression:\n",
      "  d                       \n",
      "─────(E[y|W3,W4,W0,W1,W2])\n",
      "d[v₀]                     \n",
      "Estimand assumption 1, Unconfoundedness: If U→{v0} and U→y then P(y|v0,W3,W4,W0,W1,W2,U) = P(y|v0,W3,W4,W0,W1,W2)\n",
      "\n",
      "### Estimand : 2\n",
      "Estimand name: iv\n",
      "Estimand expression:\n",
      " ⎡                              -1⎤\n",
      " ⎢    d        ⎛    d          ⎞  ⎥\n",
      "E⎢─────────(y)⋅⎜─────────([v₀])⎟  ⎥\n",
      " ⎣d[Z₁  Z₀]    ⎝d[Z₁  Z₀]      ⎠  ⎦\n",
      "Estimand assumption 1, As-if-random: If U→→y then ¬(U →→{Z1,Z0})\n",
      "Estimand assumption 2, Exclusion: If we remove {Z1,Z0}→{v0}, then ¬({Z1,Z0}→y)\n",
      "\n",
      "### Estimand : 3\n",
      "Estimand name: frontdoor\n",
      "No such variable(s) found!\n",
      "\n"
     ]
    }
   ],
   "source": [
    "identified_estimand = model.identify_effect(proceed_when_unidentifiable=True)\n",
    "print(identified_estimand)"
   ]
  },
  {
   "cell_type": "markdown",
   "id": "d0b26486",
   "metadata": {},
   "source": [
    "## Method 1: Propensity Score Stratification\n",
    "\n",
    "We will be using propensity scores to stratify units in the data."
   ]
  },
  {
   "cell_type": "code",
   "execution_count": 8,
   "id": "65cf4413",
   "metadata": {
    "execution": {
     "iopub.execute_input": "2022-08-07T22:11:04.797189Z",
     "iopub.status.busy": "2022-08-07T22:11:04.796619Z",
     "iopub.status.idle": "2022-08-07T22:11:06.086981Z",
     "shell.execute_reply": "2022-08-07T22:11:06.086128Z"
    }
   },
   "outputs": [
    {
     "name": "stdout",
     "output_type": "stream",
     "text": [
      "propensity_score_stratification\n"
     ]
    },
    {
     "name": "stderr",
     "output_type": "stream",
     "text": [
      "/usr/local/lib/python3.8/dist-packages/sklearn/utils/validation.py:993: DataConversionWarning: A column-vector y was passed when a 1d array was expected. Please change the shape of y to (n_samples, ), for example using ravel().\n",
      "  y = column_or_1d(y, warn=True)\n"
     ]
    },
    {
     "name": "stdout",
     "output_type": "stream",
     "text": [
      "*** Causal Estimate ***\n",
      "\n",
      "## Identified estimand\n",
      "Estimand type: nonparametric-ate\n",
      "\n",
      "### Estimand : 1\n",
      "Estimand name: backdoor\n",
      "Estimand expression:\n",
      "  d                       \n",
      "─────(E[y|W3,W4,W0,W1,W2])\n",
      "d[v₀]                     \n",
      "Estimand assumption 1, Unconfoundedness: If U→{v0} and U→y then P(y|v0,W3,W4,W0,W1,W2,U) = P(y|v0,W3,W4,W0,W1,W2)\n",
      "\n",
      "## Realized estimand\n",
      "b: y~v0+W3+W4+W0+W1+W2\n",
      "Target units: att\n",
      "\n",
      "## Estimate\n",
      "Mean value: 1.0275509026767369\n",
      "\n",
      "Causal Estimate is 1.0275509026767369\n"
     ]
    }
   ],
   "source": [
    "causal_estimate_strat = model.estimate_effect(identified_estimand,\n",
    "                                              method_name=\"backdoor.propensity_score_stratification\",\n",
    "                                              target_units=\"att\")\n",
    "print(causal_estimate_strat)\n",
    "print(\"Causal Estimate is \" + str(causal_estimate_strat.value))"
   ]
  },
  {
   "cell_type": "markdown",
   "id": "8baeb7e8",
   "metadata": {},
   "source": [
    "### Textual Interpreter\n",
    "\n",
    "The textual Interpreter describes (in words) the effect of unit change in the treatment variable on the outcome variable."
   ]
  },
  {
   "cell_type": "code",
   "execution_count": 9,
   "id": "fe14a4d4",
   "metadata": {
    "execution": {
     "iopub.execute_input": "2022-08-07T22:11:06.091459Z",
     "iopub.status.busy": "2022-08-07T22:11:06.090928Z",
     "iopub.status.idle": "2022-08-07T22:11:06.125604Z",
     "shell.execute_reply": "2022-08-07T22:11:06.124630Z"
    }
   },
   "outputs": [
    {
     "name": "stdout",
     "output_type": "stream",
     "text": [
      "Increasing the treatment variable(s) [v0] from 0 to 1 causes an increase of 1.0275509026767369 in the expected value of the outcome [y], over the data distribution/population represented by the dataset.\n"
     ]
    }
   ],
   "source": [
    "# Textual Interpreter\n",
    "interpretation = causal_estimate_strat.interpret(method_name=\"textual_effect_interpreter\")"
   ]
  },
  {
   "cell_type": "markdown",
   "id": "22b4e08f",
   "metadata": {},
   "source": [
    "### Visual Interpreter\n",
    "\n",
    "The visual interpreter plots the change in the standardized mean difference (SMD) before and after Propensity Score based adjustment of the dataset. The formula for SMD is given below.\n",
    "\n",
    "\n",
    "$SMD = \\frac{\\bar X_{1} - \\bar X_{2}}{\\sqrt{(S_{1}^{2} + S_{2}^{2})/2}}$\n",
    "\n",
    "Here, $\\bar X_{1}$ and $\\bar X_{2}$ are the sample mean for the treated and control groups.\n"
   ]
  },
  {
   "cell_type": "code",
   "execution_count": 10,
   "id": "99c6f8d5",
   "metadata": {
    "execution": {
     "iopub.execute_input": "2022-08-07T22:11:06.129776Z",
     "iopub.status.busy": "2022-08-07T22:11:06.129424Z",
     "iopub.status.idle": "2022-08-07T22:11:07.461332Z",
     "shell.execute_reply": "2022-08-07T22:11:07.460422Z"
    }
   },
   "outputs": [
    {
     "data": {
      "image/png": "[encoded data removed]",
      "text/plain": [
       "<Figure size 432x288 with 1 Axes>"
      ]
     },
     "metadata": {
      "needs_background": "light"
     },
     "output_type": "display_data"
    }
   ],
   "source": [
    "# Visual Interpreter\n",
    "interpretation = causal_estimate_strat.interpret(method_name=\"propensity_balance_interpreter\")"
   ]
  },
  {
   "cell_type": "markdown",
   "id": "b721bf44",
   "metadata": {},
   "source": [
    "This plot shows how the SMD decreases from the unadjusted to the stratified units. "
   ]
  },
  {
   "cell_type": "markdown",
   "id": "be1838e0",
   "metadata": {},
   "source": [
    "## Method 2: Propensity Score Matching\n",
    "\n",
    "We will be using propensity scores to match units in the data."
   ]
  },
  {
   "cell_type": "code",
   "execution_count": 11,
   "id": "13754e4f",
   "metadata": {
    "execution": {
     "iopub.execute_input": "2022-08-07T22:11:07.466380Z",
     "iopub.status.busy": "2022-08-07T22:11:07.465699Z",
     "iopub.status.idle": "2022-08-07T22:11:13.827396Z",
     "shell.execute_reply": "2022-08-07T22:11:13.826520Z"
    }
   },
   "outputs": [
    {
     "name": "stdout",
     "output_type": "stream",
     "text": [
      "propensity_score_matching\n"
     ]
    },
    {
     "name": "stderr",
     "output_type": "stream",
     "text": [
      "/usr/local/lib/python3.8/dist-packages/sklearn/utils/validation.py:993: DataConversionWarning: A column-vector y was passed when a 1d array was expected. Please change the shape of y to (n_samples, ), for example using ravel().\n",
      "  y = column_or_1d(y, warn=True)\n"
     ]
    },
    {
     "name": "stdout",
     "output_type": "stream",
     "text": [
      "*** Causal Estimate ***\n",
      "\n",
      "## Identified estimand\n",
      "Estimand type: nonparametric-ate\n",
      "\n",
      "### Estimand : 1\n",
      "Estimand name: backdoor\n",
      "Estimand expression:\n",
      "  d                       \n",
      "─────(E[y|W3,W4,W0,W1,W2])\n",
      "d[v₀]                     \n",
      "Estimand assumption 1, Unconfoundedness: If U→{v0} and U→y then P(y|v0,W3,W4,W0,W1,W2,U) = P(y|v0,W3,W4,W0,W1,W2)\n",
      "\n",
      "## Realized estimand\n",
      "b: y~v0+W3+W4+W0+W1+W2\n",
      "Target units: atc\n",
      "\n",
      "## Estimate\n",
      "Mean value: 0.9740641785536296\n",
      "\n",
      "Causal Estimate is 0.9740641785536296\n"
     ]
    }
   ],
   "source": [
    "causal_estimate_match = model.estimate_effect(identified_estimand,\n",
    "                                              method_name=\"backdoor.propensity_score_matching\",\n",
    "                                              target_units=\"atc\")\n",
    "print(causal_estimate_match)\n",
    "print(\"Causal Estimate is \" + str(causal_estimate_match.value))"
   ]
  },
  {
   "cell_type": "code",
   "execution_count": 12,
   "id": "b59d1db4",
   "metadata": {
    "execution": {
     "iopub.execute_input": "2022-08-07T22:11:13.831050Z",
     "iopub.status.busy": "2022-08-07T22:11:13.830746Z",
     "iopub.status.idle": "2022-08-07T22:11:13.864416Z",
     "shell.execute_reply": "2022-08-07T22:11:13.863559Z"
    }
   },
   "outputs": [
    {
     "name": "stdout",
     "output_type": "stream",
     "text": [
      "Increasing the treatment variable(s) [v0] from 0 to 1 causes an increase of 0.9740641785536296 in the expected value of the outcome [y], over the data distribution/population represented by the dataset.\n"
     ]
    }
   ],
   "source": [
    "# Textual Interpreter\n",
    "interpretation = causal_estimate_match.interpret(method_name=\"textual_effect_interpreter\")"
   ]
  },
  {
   "cell_type": "markdown",
   "id": "48266f52",
   "metadata": {},
   "source": [
    "Cannot use propensity balance interpretor here since the interpreter method only supports propensity score stratification estimator."
   ]
  },
  {
   "cell_type": "markdown",
   "id": "3a58e21d",
   "metadata": {},
   "source": [
    "## Method 3: Weighting\n",
    "\n",
    "We will be using (inverse) propensity scores to assign weights to units in the data. DoWhy supports a few different weighting schemes:\n",
    "1. Vanilla Inverse Propensity Score weighting (IPS) (weighting_scheme=\"ips_weight\")\n",
    "2. Self-normalized IPS weighting (also known as the Hajek estimator) (weighting_scheme=\"ips_normalized_weight\")\n",
    "3. Stabilized IPS weighting (weighting_scheme = \"ips_stabilized_weight\")"
   ]
  },
  {
   "cell_type": "code",
   "execution_count": 13,
   "id": "5f5836ea",
   "metadata": {
    "execution": {
     "iopub.execute_input": "2022-08-07T22:11:13.868345Z",
     "iopub.status.busy": "2022-08-07T22:11:13.867979Z",
     "iopub.status.idle": "2022-08-07T22:11:13.958877Z",
     "shell.execute_reply": "2022-08-07T22:11:13.957193Z"
    }
   },
   "outputs": [
    {
     "name": "stdout",
     "output_type": "stream",
     "text": [
      "propensity_score_weighting\n",
      "*** Causal Estimate ***\n",
      "\n",
      "## Identified estimand\n",
      "Estimand type: nonparametric-ate\n",
      "\n",
      "### Estimand : 1\n",
      "Estimand name: backdoor\n",
      "Estimand expression:\n",
      "  d                       \n",
      "─────(E[y|W3,W4,W0,W1,W2])\n",
      "d[v₀]                     \n",
      "Estimand assumption 1, Unconfoundedness: If U→{v0} and U→y then P(y|v0,W3,W4,W0,W1,W2,U) = P(y|v0,W3,W4,W0,W1,W2)\n",
      "\n",
      "## Realized estimand\n",
      "b: y~v0+W3+W4+W0+W1+W2\n",
      "Target units: ate\n",
      "\n",
      "## Estimate\n",
      "Mean value: 1.3805214728141826\n",
      "\n",
      "Causal Estimate is 1.3805214728141826\n"
     ]
    },
    {
     "name": "stderr",
     "output_type": "stream",
     "text": [
      "/usr/local/lib/python3.8/dist-packages/sklearn/utils/validation.py:993: DataConversionWarning: A column-vector y was passed when a 1d array was expected. Please change the shape of y to (n_samples, ), for example using ravel().\n",
      "  y = column_or_1d(y, warn=True)\n"
     ]
    }
   ],
   "source": [
    "causal_estimate_ipw = model.estimate_effect(identified_estimand,\n",
    "                                            method_name=\"backdoor.propensity_score_weighting\",\n",
    "                                            target_units = \"ate\",\n",
    "                                            method_params={\"weighting_scheme\":\"ips_weight\"})\n",
    "print(causal_estimate_ipw)\n",
    "print(\"Causal Estimate is \" + str(causal_estimate_ipw.value))"
   ]
  },
  {
   "cell_type": "code",
   "execution_count": 14,
   "id": "46372cee",
   "metadata": {
    "execution": {
     "iopub.execute_input": "2022-08-07T22:11:13.962403Z",
     "iopub.status.busy": "2022-08-07T22:11:13.962075Z",
     "iopub.status.idle": "2022-08-07T22:11:13.993733Z",
     "shell.execute_reply": "2022-08-07T22:11:13.992829Z"
    }
   },
   "outputs": [
    {
     "name": "stdout",
     "output_type": "stream",
     "text": [
      "Increasing the treatment variable(s) [v0] from 0 to 1 causes an increase of 1.3805214728141826 in the expected value of the outcome [y], over the data distribution/population represented by the dataset.\n"
     ]
    }
   ],
   "source": [
    "# Textual Interpreter\n",
    "interpretation = causal_estimate_ipw.interpret(method_name=\"textual_effect_interpreter\")"
   ]
  },
  {
   "cell_type": "code",
   "execution_count": 15,
   "id": "841ca1ca",
   "metadata": {
    "execution": {
     "iopub.execute_input": "2022-08-07T22:11:13.998770Z",
     "iopub.status.busy": "2022-08-07T22:11:13.997215Z",
     "iopub.status.idle": "2022-08-07T22:11:14.367609Z",
     "shell.execute_reply": "2022-08-07T22:11:14.366364Z"
    }
   },
   "outputs": [
    {
     "data": {
      "image/png": "[encoded data removed]",
      "text/plain": [
       "<Figure size 576x576 with 2 Axes>"
      ]
     },
     "metadata": {
      "needs_background": "light"
     },
     "output_type": "display_data"
    }
   ],
   "source": [
    "interpretation = causal_estimate_ipw.interpret(method_name=\"confounder_distribution_interpreter\", fig_size=(8,8), font_size=12, var_name='W4', var_type='discrete')"
   ]
  },
  {
   "cell_type": "code",
   "execution_count": null,
   "id": "0ea3ced5",
   "metadata": {},
   "outputs": [],
   "source": []
  }
 ],
 "metadata": {
  "kernelspec": {
   "display_name": "Python 3",
   "language": "python",
   "name": "python3"
  },
  "language_info": {
   "codemirror_mode": {
    "name": "ipython",
    "version": 3
   },
   "file_extension": ".py",
   "mimetype": "text/x-python",
   "name": "python",
   "nbconvert_exporter": "python",
   "pygments_lexer": "ipython3",
   "version": "3.8.10"
  },
  "toc": {
   "base_numbering": 1,
   "nav_menu": {},
   "number_sections": false,
   "sideBar": true,
   "skip_h1_title": true,
   "title_cell": "Table of Contents",
   "title_sidebar": "Contents",
   "toc_cell": false,
   "toc_position": {},
   "toc_section_display": true,
   "toc_window_display": false
  }
 },
 "nbformat": 4,
 "nbformat_minor": 5
}

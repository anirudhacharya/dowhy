{
 "cells": [
  {
   "cell_type": "markdown",
   "metadata": {},
   "source": [
    "# Demo for the DoWhy causal API\n",
    "We show a simple example of adding a causal extension to any dataframe. "
   ]
  },
  {
   "cell_type": "code",
   "execution_count": 1,
   "metadata": {
    "execution": {
     "iopub.execute_input": "2022-08-07T22:09:55.853491Z",
     "iopub.status.busy": "2022-08-07T22:09:55.853014Z",
     "iopub.status.idle": "2022-08-07T22:09:57.411790Z",
     "shell.execute_reply": "2022-08-07T22:09:57.410548Z"
    }
   },
   "outputs": [
    {
     "name": "stdout",
     "output_type": "stream",
     "text": [
      "keywords are unexpanded, not using\n"
     ]
    }
   ],
   "source": [
    "import dowhy.datasets\n",
    "import dowhy.api\n",
    "\n",
    "import numpy as np\n",
    "import pandas as pd\n",
    "\n",
    "from statsmodels.api import OLS"
   ]
  },
  {
   "cell_type": "code",
   "execution_count": 2,
   "metadata": {
    "execution": {
     "iopub.execute_input": "2022-08-07T22:09:57.417009Z",
     "iopub.status.busy": "2022-08-07T22:09:57.416479Z",
     "iopub.status.idle": "2022-08-07T22:09:57.485158Z",
     "shell.execute_reply": "2022-08-07T22:09:57.484257Z"
    }
   },
   "outputs": [
    {
     "data": {
      "text/html": [
       "<div>\n",
       "<style scoped>\n",
       "    .dataframe tbody tr th:only-of-type {\n",
       "        vertical-align: middle;\n",
       "    }\n",
       "\n",
       "    .dataframe tbody tr th {\n",
       "        vertical-align: top;\n",
       "    }\n",
       "\n",
       "    .dataframe thead th {\n",
       "        text-align: right;\n",
       "    }\n",
       "</style>\n",
       "<table border=\"1\" class=\"dataframe\">\n",
       "  <thead>\n",
       "    <tr style=\"text-align: right;\">\n",
       "      <th></th>\n",
       "      <th>W0</th>\n",
       "      <th>v0</th>\n",
       "      <th>y</th>\n",
       "    </tr>\n",
       "  </thead>\n",
       "  <tbody>\n",
       "    <tr>\n",
       "      <th>0</th>\n",
       "      <td>-0.909829</td>\n",
       "      <td>True</td>\n",
       "      <td>2.754562</td>\n",
       "    </tr>\n",
       "    <tr>\n",
       "      <th>1</th>\n",
       "      <td>0.209459</td>\n",
       "      <td>True</td>\n",
       "      <td>6.144004</td>\n",
       "    </tr>\n",
       "    <tr>\n",
       "      <th>2</th>\n",
       "      <td>-0.200867</td>\n",
       "      <td>True</td>\n",
       "      <td>4.799886</td>\n",
       "    </tr>\n",
       "    <tr>\n",
       "      <th>3</th>\n",
       "      <td>-2.286283</td>\n",
       "      <td>False</td>\n",
       "      <td>-6.587331</td>\n",
       "    </tr>\n",
       "    <tr>\n",
       "      <th>4</th>\n",
       "      <td>-0.477794</td>\n",
       "      <td>True</td>\n",
       "      <td>4.280700</td>\n",
       "    </tr>\n",
       "    <tr>\n",
       "      <th>...</th>\n",
       "      <td>...</td>\n",
       "      <td>...</td>\n",
       "      <td>...</td>\n",
       "    </tr>\n",
       "    <tr>\n",
       "      <th>995</th>\n",
       "      <td>0.755928</td>\n",
       "      <td>True</td>\n",
       "      <td>7.400020</td>\n",
       "    </tr>\n",
       "    <tr>\n",
       "      <th>996</th>\n",
       "      <td>-1.194904</td>\n",
       "      <td>False</td>\n",
       "      <td>-2.457084</td>\n",
       "    </tr>\n",
       "    <tr>\n",
       "      <th>997</th>\n",
       "      <td>-1.949665</td>\n",
       "      <td>False</td>\n",
       "      <td>-4.477591</td>\n",
       "    </tr>\n",
       "    <tr>\n",
       "      <th>998</th>\n",
       "      <td>0.111060</td>\n",
       "      <td>False</td>\n",
       "      <td>1.644849</td>\n",
       "    </tr>\n",
       "    <tr>\n",
       "      <th>999</th>\n",
       "      <td>-0.898820</td>\n",
       "      <td>True</td>\n",
       "      <td>3.562659</td>\n",
       "    </tr>\n",
       "  </tbody>\n",
       "</table>\n",
       "<p>1000 rows × 3 columns</p>\n",
       "</div>"
      ],
      "text/plain": [
       "           W0     v0         y\n",
       "0   -0.909829   True  2.754562\n",
       "1    0.209459   True  6.144004\n",
       "2   -0.200867   True  4.799886\n",
       "3   -2.286283  False -6.587331\n",
       "4   -0.477794   True  4.280700\n",
       "..        ...    ...       ...\n",
       "995  0.755928   True  7.400020\n",
       "996 -1.194904  False -2.457084\n",
       "997 -1.949665  False -4.477591\n",
       "998  0.111060  False  1.644849\n",
       "999 -0.898820   True  3.562659\n",
       "\n",
       "[1000 rows x 3 columns]"
      ]
     },
     "execution_count": 2,
     "metadata": {},
     "output_type": "execute_result"
    }
   ],
   "source": [
    "data = dowhy.datasets.linear_dataset(beta=5,\n",
    "        num_common_causes=1,\n",
    "        num_instruments = 0,\n",
    "        num_samples=1000,\n",
    "        treatment_is_binary=True)\n",
    "df = data['df']\n",
    "df['y'] = df['y'] + np.random.normal(size=len(df)) # Adding noise to data. Without noise, the variance in Y|X, Z is zero, and mcmc fails.\n",
    "#data['dot_graph'] = 'digraph { v ->y;X0-> v;X0-> y;}'\n",
    "\n",
    "treatment= data[\"treatment_name\"][0]\n",
    "outcome = data[\"outcome_name\"][0]\n",
    "common_cause = data[\"common_causes_names\"][0]\n",
    "df"
   ]
  },
  {
   "cell_type": "code",
   "execution_count": 3,
   "metadata": {
    "execution": {
     "iopub.execute_input": "2022-08-07T22:09:57.490044Z",
     "iopub.status.busy": "2022-08-07T22:09:57.489365Z",
     "iopub.status.idle": "2022-08-07T22:09:58.494502Z",
     "shell.execute_reply": "2022-08-07T22:09:58.493701Z"
    }
   },
   "outputs": [
    {
     "data": {
      "text/plain": [
       "<AxesSubplot:xlabel='v0'>"
      ]
     },
     "execution_count": 3,
     "metadata": {},
     "output_type": "execute_result"
    },
    {
     "data": {
      "image/png": "[encoded data removed]",
      "text/plain": [
       "<Figure size 432x288 with 1 Axes>"
      ]
     },
     "metadata": {
      "needs_background": "light"
     },
     "output_type": "display_data"
    }
   ],
   "source": [
    "# data['df'] is just a regular pandas.DataFrame\n",
    "df.causal.do(x=treatment,\n",
    "                     variable_types={treatment: 'b', outcome: 'c', common_cause: 'c'},\n",
    "                     outcome=outcome,\n",
    "                     common_causes=[common_cause],\n",
    "                     proceed_when_unidentifiable=True).groupby(treatment).mean().plot(y=outcome, kind='bar')"
   ]
  },
  {
   "cell_type": "code",
   "execution_count": 4,
   "metadata": {
    "execution": {
     "iopub.execute_input": "2022-08-07T22:09:58.498392Z",
     "iopub.status.busy": "2022-08-07T22:09:58.497700Z",
     "iopub.status.idle": "2022-08-07T22:09:58.640979Z",
     "shell.execute_reply": "2022-08-07T22:09:58.640193Z"
    }
   },
   "outputs": [
    {
     "data": {
      "text/plain": [
       "<AxesSubplot:xlabel='v0'>"
      ]
     },
     "execution_count": 4,
     "metadata": {},
     "output_type": "execute_result"
    },
    {
     "data": {
      "image/png": "[encoded data removed]",
      "text/plain": [
       "<Figure size 432x288 with 1 Axes>"
      ]
     },
     "metadata": {
      "needs_background": "light"
     },
     "output_type": "display_data"
    }
   ],
   "source": [
    "df.causal.do(x={treatment: 1}, \n",
    "              variable_types={treatment:'b', outcome: 'c', common_cause: 'c'}, \n",
    "              outcome=outcome,\n",
    "              method='weighting', \n",
    "              common_causes=[common_cause],\n",
    "              proceed_when_unidentifiable=True).groupby(treatment).mean().plot(y=outcome, kind='bar')"
   ]
  },
  {
   "cell_type": "code",
   "execution_count": 5,
   "metadata": {
    "execution": {
     "iopub.execute_input": "2022-08-07T22:09:58.645029Z",
     "iopub.status.busy": "2022-08-07T22:09:58.644452Z",
     "iopub.status.idle": "2022-08-07T22:09:58.687325Z",
     "shell.execute_reply": "2022-08-07T22:09:58.686223Z"
    }
   },
   "outputs": [],
   "source": [
    "cdf_1 = df.causal.do(x={treatment: 1}, \n",
    "              variable_types={treatment: 'b', outcome: 'c', common_cause: 'c'}, \n",
    "              outcome=outcome, \n",
    "              dot_graph=data['dot_graph'],\n",
    "              proceed_when_unidentifiable=True)\n",
    "\n",
    "cdf_0 = df.causal.do(x={treatment: 0}, \n",
    "              variable_types={treatment: 'b', outcome: 'c', common_cause: 'c'}, \n",
    "              outcome=outcome, \n",
    "              dot_graph=data['dot_graph'],\n",
    "              proceed_when_unidentifiable=True)\n"
   ]
  },
  {
   "cell_type": "code",
   "execution_count": 6,
   "metadata": {
    "execution": {
     "iopub.execute_input": "2022-08-07T22:09:58.691431Z",
     "iopub.status.busy": "2022-08-07T22:09:58.691165Z",
     "iopub.status.idle": "2022-08-07T22:09:58.707522Z",
     "shell.execute_reply": "2022-08-07T22:09:58.706744Z"
    },
    "scrolled": true
   },
   "outputs": [
    {
     "data": {
      "text/html": [
       "<div>\n",
       "<style scoped>\n",
       "    .dataframe tbody tr th:only-of-type {\n",
       "        vertical-align: middle;\n",
       "    }\n",
       "\n",
       "    .dataframe tbody tr th {\n",
       "        vertical-align: top;\n",
       "    }\n",
       "\n",
       "    .dataframe thead th {\n",
       "        text-align: right;\n",
       "    }\n",
       "</style>\n",
       "<table border=\"1\" class=\"dataframe\">\n",
       "  <thead>\n",
       "    <tr style=\"text-align: right;\">\n",
       "      <th></th>\n",
       "      <th>W0</th>\n",
       "      <th>v0</th>\n",
       "      <th>y</th>\n",
       "      <th>propensity_score</th>\n",
       "      <th>weight</th>\n",
       "    </tr>\n",
       "  </thead>\n",
       "  <tbody>\n",
       "    <tr>\n",
       "      <th>0</th>\n",
       "      <td>-1.667118</td>\n",
       "      <td>False</td>\n",
       "      <td>-1.411361</td>\n",
       "      <td>0.634019</td>\n",
       "      <td>1.577239</td>\n",
       "    </tr>\n",
       "    <tr>\n",
       "      <th>1</th>\n",
       "      <td>-0.394512</td>\n",
       "      <td>False</td>\n",
       "      <td>-1.111562</td>\n",
       "      <td>0.517117</td>\n",
       "      <td>1.933798</td>\n",
       "    </tr>\n",
       "    <tr>\n",
       "      <th>2</th>\n",
       "      <td>-0.220692</td>\n",
       "      <td>False</td>\n",
       "      <td>2.069921</td>\n",
       "      <td>0.500699</td>\n",
       "      <td>1.997208</td>\n",
       "    </tr>\n",
       "    <tr>\n",
       "      <th>3</th>\n",
       "      <td>-0.001738</td>\n",
       "      <td>False</td>\n",
       "      <td>2.813840</td>\n",
       "      <td>0.480020</td>\n",
       "      <td>2.083245</td>\n",
       "    </tr>\n",
       "    <tr>\n",
       "      <th>4</th>\n",
       "      <td>-1.094281</td>\n",
       "      <td>False</td>\n",
       "      <td>-1.353864</td>\n",
       "      <td>0.582485</td>\n",
       "      <td>1.716781</td>\n",
       "    </tr>\n",
       "    <tr>\n",
       "      <th>...</th>\n",
       "      <td>...</td>\n",
       "      <td>...</td>\n",
       "      <td>...</td>\n",
       "      <td>...</td>\n",
       "      <td>...</td>\n",
       "    </tr>\n",
       "    <tr>\n",
       "      <th>995</th>\n",
       "      <td>-0.850150</td>\n",
       "      <td>False</td>\n",
       "      <td>-0.046305</td>\n",
       "      <td>0.559889</td>\n",
       "      <td>1.786069</td>\n",
       "    </tr>\n",
       "    <tr>\n",
       "      <th>996</th>\n",
       "      <td>-0.143082</td>\n",
       "      <td>False</td>\n",
       "      <td>-0.799458</td>\n",
       "      <td>0.493366</td>\n",
       "      <td>2.026893</td>\n",
       "    </tr>\n",
       "    <tr>\n",
       "      <th>997</th>\n",
       "      <td>-0.028686</td>\n",
       "      <td>False</td>\n",
       "      <td>0.749287</td>\n",
       "      <td>0.482563</td>\n",
       "      <td>2.072267</td>\n",
       "    </tr>\n",
       "    <tr>\n",
       "      <th>998</th>\n",
       "      <td>-0.911424</td>\n",
       "      <td>False</td>\n",
       "      <td>-2.193269</td>\n",
       "      <td>0.565588</td>\n",
       "      <td>1.768073</td>\n",
       "    </tr>\n",
       "    <tr>\n",
       "      <th>999</th>\n",
       "      <td>-0.314638</td>\n",
       "      <td>False</td>\n",
       "      <td>0.053938</td>\n",
       "      <td>0.509575</td>\n",
       "      <td>1.962419</td>\n",
       "    </tr>\n",
       "  </tbody>\n",
       "</table>\n",
       "<p>1000 rows × 5 columns</p>\n",
       "</div>"
      ],
      "text/plain": [
       "           W0     v0         y  propensity_score    weight\n",
       "0   -1.667118  False -1.411361          0.634019  1.577239\n",
       "1   -0.394512  False -1.111562          0.517117  1.933798\n",
       "2   -0.220692  False  2.069921          0.500699  1.997208\n",
       "3   -0.001738  False  2.813840          0.480020  2.083245\n",
       "4   -1.094281  False -1.353864          0.582485  1.716781\n",
       "..        ...    ...       ...               ...       ...\n",
       "995 -0.850150  False -0.046305          0.559889  1.786069\n",
       "996 -0.143082  False -0.799458          0.493366  2.026893\n",
       "997 -0.028686  False  0.749287          0.482563  2.072267\n",
       "998 -0.911424  False -2.193269          0.565588  1.768073\n",
       "999 -0.314638  False  0.053938          0.509575  1.962419\n",
       "\n",
       "[1000 rows x 5 columns]"
      ]
     },
     "execution_count": 6,
     "metadata": {},
     "output_type": "execute_result"
    }
   ],
   "source": [
    "cdf_0"
   ]
  },
  {
   "cell_type": "code",
   "execution_count": 7,
   "metadata": {
    "execution": {
     "iopub.execute_input": "2022-08-07T22:09:58.711525Z",
     "iopub.status.busy": "2022-08-07T22:09:58.710885Z",
     "iopub.status.idle": "2022-08-07T22:09:58.724555Z",
     "shell.execute_reply": "2022-08-07T22:09:58.723646Z"
    }
   },
   "outputs": [
    {
     "data": {
      "text/html": [
       "<div>\n",
       "<style scoped>\n",
       "    .dataframe tbody tr th:only-of-type {\n",
       "        vertical-align: middle;\n",
       "    }\n",
       "\n",
       "    .dataframe tbody tr th {\n",
       "        vertical-align: top;\n",
       "    }\n",
       "\n",
       "    .dataframe thead th {\n",
       "        text-align: right;\n",
       "    }\n",
       "</style>\n",
       "<table border=\"1\" class=\"dataframe\">\n",
       "  <thead>\n",
       "    <tr style=\"text-align: right;\">\n",
       "      <th></th>\n",
       "      <th>W0</th>\n",
       "      <th>v0</th>\n",
       "      <th>y</th>\n",
       "      <th>propensity_score</th>\n",
       "      <th>weight</th>\n",
       "    </tr>\n",
       "  </thead>\n",
       "  <tbody>\n",
       "    <tr>\n",
       "      <th>0</th>\n",
       "      <td>-1.244185</td>\n",
       "      <td>True</td>\n",
       "      <td>1.536806</td>\n",
       "      <td>0.403803</td>\n",
       "      <td>2.476454</td>\n",
       "    </tr>\n",
       "    <tr>\n",
       "      <th>1</th>\n",
       "      <td>-2.558297</td>\n",
       "      <td>True</td>\n",
       "      <td>-1.720786</td>\n",
       "      <td>0.291867</td>\n",
       "      <td>3.426220</td>\n",
       "    </tr>\n",
       "    <tr>\n",
       "      <th>2</th>\n",
       "      <td>-1.503951</td>\n",
       "      <td>True</td>\n",
       "      <td>0.265153</td>\n",
       "      <td>0.380406</td>\n",
       "      <td>2.628772</td>\n",
       "    </tr>\n",
       "    <tr>\n",
       "      <th>3</th>\n",
       "      <td>-1.571306</td>\n",
       "      <td>True</td>\n",
       "      <td>2.108568</td>\n",
       "      <td>0.374424</td>\n",
       "      <td>2.670769</td>\n",
       "    </tr>\n",
       "    <tr>\n",
       "      <th>4</th>\n",
       "      <td>-0.081369</td>\n",
       "      <td>True</td>\n",
       "      <td>5.134562</td>\n",
       "      <td>0.512463</td>\n",
       "      <td>1.951359</td>\n",
       "    </tr>\n",
       "    <tr>\n",
       "      <th>...</th>\n",
       "      <td>...</td>\n",
       "      <td>...</td>\n",
       "      <td>...</td>\n",
       "      <td>...</td>\n",
       "      <td>...</td>\n",
       "    </tr>\n",
       "    <tr>\n",
       "      <th>995</th>\n",
       "      <td>-0.662244</td>\n",
       "      <td>True</td>\n",
       "      <td>3.539412</td>\n",
       "      <td>0.457679</td>\n",
       "      <td>2.184936</td>\n",
       "    </tr>\n",
       "    <tr>\n",
       "      <th>996</th>\n",
       "      <td>0.082794</td>\n",
       "      <td>True</td>\n",
       "      <td>5.341700</td>\n",
       "      <td>0.527949</td>\n",
       "      <td>1.894124</td>\n",
       "    </tr>\n",
       "    <tr>\n",
       "      <th>997</th>\n",
       "      <td>1.307028</td>\n",
       "      <td>True</td>\n",
       "      <td>8.502420</td>\n",
       "      <td>0.639831</td>\n",
       "      <td>1.562912</td>\n",
       "    </tr>\n",
       "    <tr>\n",
       "      <th>998</th>\n",
       "      <td>-0.859600</td>\n",
       "      <td>True</td>\n",
       "      <td>1.902208</td>\n",
       "      <td>0.439231</td>\n",
       "      <td>2.276705</td>\n",
       "    </tr>\n",
       "    <tr>\n",
       "      <th>999</th>\n",
       "      <td>1.351712</td>\n",
       "      <td>True</td>\n",
       "      <td>8.114737</td>\n",
       "      <td>0.643714</td>\n",
       "      <td>1.553485</td>\n",
       "    </tr>\n",
       "  </tbody>\n",
       "</table>\n",
       "<p>1000 rows × 5 columns</p>\n",
       "</div>"
      ],
      "text/plain": [
       "           W0    v0         y  propensity_score    weight\n",
       "0   -1.244185  True  1.536806          0.403803  2.476454\n",
       "1   -2.558297  True -1.720786          0.291867  3.426220\n",
       "2   -1.503951  True  0.265153          0.380406  2.628772\n",
       "3   -1.571306  True  2.108568          0.374424  2.670769\n",
       "4   -0.081369  True  5.134562          0.512463  1.951359\n",
       "..        ...   ...       ...               ...       ...\n",
       "995 -0.662244  True  3.539412          0.457679  2.184936\n",
       "996  0.082794  True  5.341700          0.527949  1.894124\n",
       "997  1.307028  True  8.502420          0.639831  1.562912\n",
       "998 -0.859600  True  1.902208          0.439231  2.276705\n",
       "999  1.351712  True  8.114737          0.643714  1.553485\n",
       "\n",
       "[1000 rows x 5 columns]"
      ]
     },
     "execution_count": 7,
     "metadata": {},
     "output_type": "execute_result"
    }
   ],
   "source": [
    "cdf_1"
   ]
  },
  {
   "cell_type": "markdown",
   "metadata": {},
   "source": [
    "## Comparing the estimate to Linear Regression\n",
    "First, estimating the effect using the causal data frame, and the 95% confidence interval."
   ]
  },
  {
   "cell_type": "code",
   "execution_count": 8,
   "metadata": {
    "execution": {
     "iopub.execute_input": "2022-08-07T22:09:58.728176Z",
     "iopub.status.busy": "2022-08-07T22:09:58.727821Z",
     "iopub.status.idle": "2022-08-07T22:09:58.863800Z",
     "shell.execute_reply": "2022-08-07T22:09:58.862800Z"
    }
   },
   "outputs": [
    {
     "data": {
      "image/png": "[encoded data removed]",
      "text/latex": [
       "$\\displaystyle 4.88197641727819$"
      ],
      "text/plain": [
       "4.8819764172781905"
      ]
     },
     "execution_count": 8,
     "metadata": {},
     "output_type": "execute_result"
    }
   ],
   "source": [
    "(cdf_1['y'] - cdf_0['y']).mean()"
   ]
  },
  {
   "cell_type": "code",
   "execution_count": 9,
   "metadata": {
    "execution": {
     "iopub.execute_input": "2022-08-07T22:09:58.867990Z",
     "iopub.status.busy": "2022-08-07T22:09:58.867198Z",
     "iopub.status.idle": "2022-08-07T22:09:58.906032Z",
     "shell.execute_reply": "2022-08-07T22:09:58.905075Z"
    }
   },
   "outputs": [
    {
     "data": {
      "image/png": "[encoded data removed]",
      "text/latex": [
       "$\\displaystyle 0.219963077292279$"
      ],
      "text/plain": [
       "0.21996307729227943"
      ]
     },
     "execution_count": 9,
     "metadata": {},
     "output_type": "execute_result"
    }
   ],
   "source": [
    "1.96*(cdf_1['y'] - cdf_0['y']).std() / np.sqrt(len(df))"
   ]
  },
  {
   "cell_type": "markdown",
   "metadata": {},
   "source": [
    "Comparing to the estimate from OLS."
   ]
  },
  {
   "cell_type": "code",
   "execution_count": 10,
   "metadata": {
    "execution": {
     "iopub.execute_input": "2022-08-07T22:09:58.911033Z",
     "iopub.status.busy": "2022-08-07T22:09:58.910373Z",
     "iopub.status.idle": "2022-08-07T22:09:58.934038Z",
     "shell.execute_reply": "2022-08-07T22:09:58.933154Z"
    }
   },
   "outputs": [
    {
     "data": {
      "text/html": [
       "<table class=\"simpletable\">\n",
       "<caption>OLS Regression Results</caption>\n",
       "<tr>\n",
       "  <th>Dep. Variable:</th>            <td>y</td>        <th>  R-squared (uncentered):</th>      <td>   0.935</td>\n",
       "</tr>\n",
       "<tr>\n",
       "  <th>Model:</th>                   <td>OLS</td>       <th>  Adj. R-squared (uncentered):</th> <td>   0.935</td>\n",
       "</tr>\n",
       "<tr>\n",
       "  <th>Method:</th>             <td>Least Squares</td>  <th>  F-statistic:       </th>          <td>   7186.</td>\n",
       "</tr>\n",
       "<tr>\n",
       "  <th>Date:</th>             <td>Sun, 07 Aug 2022</td> <th>  Prob (F-statistic):</th>           <td>  0.00</td> \n",
       "</tr>\n",
       "<tr>\n",
       "  <th>Time:</th>                 <td>22:09:58</td>     <th>  Log-Likelihood:    </th>          <td> -1442.3</td>\n",
       "</tr>\n",
       "<tr>\n",
       "  <th>No. Observations:</th>      <td>  1000</td>      <th>  AIC:               </th>          <td>   2889.</td>\n",
       "</tr>\n",
       "<tr>\n",
       "  <th>Df Residuals:</th>          <td>   998</td>      <th>  BIC:               </th>          <td>   2898.</td>\n",
       "</tr>\n",
       "<tr>\n",
       "  <th>Df Model:</th>              <td>     2</td>      <th>                     </th>              <td> </td>   \n",
       "</tr>\n",
       "<tr>\n",
       "  <th>Covariance Type:</th>      <td>nonrobust</td>    <th>                     </th>              <td> </td>   \n",
       "</tr>\n",
       "</table>\n",
       "<table class=\"simpletable\">\n",
       "<tr>\n",
       "   <td></td>     <th>coef</th>     <th>std err</th>      <th>t</th>      <th>P>|t|</th>  <th>[0.025</th>    <th>0.975]</th>  \n",
       "</tr>\n",
       "<tr>\n",
       "  <th>x1</th> <td>    2.2804</td> <td>    0.030</td> <td>   77.056</td> <td> 0.000</td> <td>    2.222</td> <td>    2.338</td>\n",
       "</tr>\n",
       "<tr>\n",
       "  <th>x2</th> <td>    4.9881</td> <td>    0.048</td> <td>  104.326</td> <td> 0.000</td> <td>    4.894</td> <td>    5.082</td>\n",
       "</tr>\n",
       "</table>\n",
       "<table class=\"simpletable\">\n",
       "<tr>\n",
       "  <th>Omnibus:</th>       <td> 2.134</td> <th>  Durbin-Watson:     </th> <td>   2.007</td>\n",
       "</tr>\n",
       "<tr>\n",
       "  <th>Prob(Omnibus):</th> <td> 0.344</td> <th>  Jarque-Bera (JB):  </th> <td>   2.016</td>\n",
       "</tr>\n",
       "<tr>\n",
       "  <th>Skew:</th>          <td> 0.105</td> <th>  Prob(JB):          </th> <td>   0.365</td>\n",
       "</tr>\n",
       "<tr>\n",
       "  <th>Kurtosis:</th>      <td> 3.067</td> <th>  Cond. No.          </th> <td>    1.68</td>\n",
       "</tr>\n",
       "</table><br/><br/>Notes:<br/>[1] R² is computed without centering (uncentered) since the model does not contain a constant.<br/>[2] Standard Errors assume that the covariance matrix of the errors is correctly specified."
      ],
      "text/plain": [
       "<class 'statsmodels.iolib.summary.Summary'>\n",
       "\"\"\"\n",
       "                                 OLS Regression Results                                \n",
       "=======================================================================================\n",
       "Dep. Variable:                      y   R-squared (uncentered):                   0.935\n",
       "Model:                            OLS   Adj. R-squared (uncentered):              0.935\n",
       "Method:                 Least Squares   F-statistic:                              7186.\n",
       "Date:                Sun, 07 Aug 2022   Prob (F-statistic):                        0.00\n",
       "Time:                        22:09:58   Log-Likelihood:                         -1442.3\n",
       "No. Observations:                1000   AIC:                                      2889.\n",
       "Df Residuals:                     998   BIC:                                      2898.\n",
       "Df Model:                           2                                                  \n",
       "Covariance Type:            nonrobust                                                  \n",
       "==============================================================================\n",
       "                 coef    std err          t      P>|t|      [0.025      0.975]\n",
       "------------------------------------------------------------------------------\n",
       "x1             2.2804      0.030     77.056      0.000       2.222       2.338\n",
       "x2             4.9881      0.048    104.326      0.000       4.894       5.082\n",
       "==============================================================================\n",
       "Omnibus:                        2.134   Durbin-Watson:                   2.007\n",
       "Prob(Omnibus):                  0.344   Jarque-Bera (JB):                2.016\n",
       "Skew:                           0.105   Prob(JB):                        0.365\n",
       "Kurtosis:                       3.067   Cond. No.                         1.68\n",
       "==============================================================================\n",
       "\n",
       "Notes:\n",
       "[1] R² is computed without centering (uncentered) since the model does not contain a constant.\n",
       "[2] Standard Errors assume that the covariance matrix of the errors is correctly specified.\n",
       "\"\"\""
      ]
     },
     "execution_count": 10,
     "metadata": {},
     "output_type": "execute_result"
    }
   ],
   "source": [
    "model = OLS(np.asarray(df[outcome]), np.asarray(df[[common_cause, treatment]], dtype=np.float64))\n",
    "result = model.fit()\n",
    "result.summary()"
   ]
  }
 ],
 "metadata": {
  "kernelspec": {
   "display_name": "Python 3",
   "language": "python",
   "name": "python3"
  },
  "language_info": {
   "codemirror_mode": {
    "name": "ipython",
    "version": 3
   },
   "file_extension": ".py",
   "mimetype": "text/x-python",
   "name": "python",
   "nbconvert_exporter": "python",
   "pygments_lexer": "ipython3",
   "version": "3.8.10"
  },
  "toc": {
   "base_numbering": 1,
   "nav_menu": {},
   "number_sections": false,
   "sideBar": true,
   "skip_h1_title": true,
   "title_cell": "Table of Contents",
   "title_sidebar": "Contents",
   "toc_cell": false,
   "toc_position": {},
   "toc_section_display": true,
   "toc_window_display": false
  }
 },
 "nbformat": 4,
 "nbformat_minor": 4
}
